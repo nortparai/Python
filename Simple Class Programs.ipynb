{
 "cells": [
  {
   "cell_type": "markdown",
   "id": "b3116cbd",
   "metadata": {},
   "source": [
    " Write a Python Program(with class concepts) to find the area of the triangle using the below\n",
    "formula.\n",
    "area = (s*(s-a)*(s-b)*(s-c)) ** 0.5\n",
    "Function to take the length of the sides of triangle from user should be defined in the parent\n",
    "class and function to calculate the area should be defined in subclass."
   ]
  },
  {
   "cell_type": "code",
   "execution_count": 59,
   "id": "ce4b4cee",
   "metadata": {},
   "outputs": [],
   "source": [
    "class shapes:\n",
    "    def get_Shapes(self):\n",
    "        self._a = float(input(\"Enter Value for a:  \"))\n",
    "        self._b = float(input(\"Enter Value for b:   \"))\n",
    "        self._c = float(input(\"Enter Value for c:   \"))\n",
    "        self._s = (self._a+self._b+self._c)/3"
   ]
  },
  {
   "cell_type": "code",
   "execution_count": 60,
   "id": "378c42e1",
   "metadata": {},
   "outputs": [],
   "source": [
    "class triangle(shapes):\n",
    "    def compute_Area(self):\n",
    "        self._area = (self._s * (self._s - self._a) * (self._s - self._b) * (self._s - self._c)) ** 0.5\n",
    "        print(\"The area of triangle is \" ,self._area)\n",
    "        \n",
    "    "
   ]
  },
  {
   "cell_type": "code",
   "execution_count": 61,
   "id": "5d0eb0e3",
   "metadata": {},
   "outputs": [],
   "source": [
    "t = triangle()"
   ]
  },
  {
   "cell_type": "code",
   "execution_count": 62,
   "id": "1817b78e",
   "metadata": {},
   "outputs": [
    {
     "name": "stdout",
     "output_type": "stream",
     "text": [
      "Enter Value for a:  12\n",
      "Enter Value for b:   15\n",
      "Enter Value for c:   15\n"
     ]
    }
   ],
   "source": [
    "t.get_Shapes()"
   ]
  },
  {
   "cell_type": "code",
   "execution_count": 63,
   "id": "e1fe385f",
   "metadata": {},
   "outputs": [
    {
     "name": "stdout",
     "output_type": "stream",
     "text": [
      "The area of triangle is  5.291502622129181\n"
     ]
    }
   ],
   "source": [
    "t.compute_Area()"
   ]
  },
  {
   "cell_type": "markdown",
   "id": "bbeb7aae",
   "metadata": {},
   "source": [
    "Write a function filter_long_words() that takes a list of words and an integer n and returns\n",
    "the list of words that are longer than n."
   ]
  },
  {
   "cell_type": "code",
   "execution_count": 225,
   "id": "71311bec",
   "metadata": {},
   "outputs": [],
   "source": [
    "class mylist:\n",
    "    def create_List(self):\n",
    "        self.l = []\n",
    "        while True:\n",
    "            self.item = input(\"Enter your item:  \")\n",
    "            self.l.append(self.item)\n",
    "            self.ans  = int(input(\"Enter 1 to add more and 2 to stop  \"))\n",
    "            if (self.ans == 1):\n",
    "                continue\n",
    "            else:\n",
    "                break\n",
    "    def print_List(self):\n",
    "        print(self.l)\n",
    "    def filter_List(self,n):\n",
    "        self.n = n\n",
    "        self.fil_l = []\n",
    "        for i in range (0,len(self.l)):\n",
    "            if(len(self.l[i]) != self.n):\n",
    "                self.fil_l.append(self.l[i])\n",
    "        return self.fil_l\n",
    "        "
   ]
  },
  {
   "cell_type": "code",
   "execution_count": 226,
   "id": "008592b0",
   "metadata": {},
   "outputs": [],
   "source": [
    "l1 = mylist()"
   ]
  },
  {
   "cell_type": "code",
   "execution_count": 228,
   "id": "8bae1ac2",
   "metadata": {},
   "outputs": [
    {
     "name": "stdout",
     "output_type": "stream",
     "text": [
      "Enter your item:  green\n",
      "Enter 1 to add more and 2 to stop  1\n",
      "Enter your item:  blue\n",
      "Enter 1 to add more and 2 to stop  1\n",
      "Enter your item:  red\n",
      "Enter 1 to add more and 2 to stop  1\n",
      "Enter your item:  orange\n",
      "Enter 1 to add more and 2 to stop  1\n",
      "Enter your item:  black\n",
      "Enter 1 to add more and 2 to stop  2\n"
     ]
    }
   ],
   "source": [
    "l1.create_List()"
   ]
  },
  {
   "cell_type": "code",
   "execution_count": 229,
   "id": "78dff434",
   "metadata": {},
   "outputs": [
    {
     "name": "stdout",
     "output_type": "stream",
     "text": [
      "['green', 'blue', 'red', 'orange', 'black']\n"
     ]
    }
   ],
   "source": [
    "l1.print_List()"
   ]
  },
  {
   "cell_type": "code",
   "execution_count": 230,
   "id": "79b2f11f",
   "metadata": {},
   "outputs": [
    {
     "data": {
      "text/plain": [
       "['green', 'red', 'orange', 'black']"
      ]
     },
     "execution_count": 230,
     "metadata": {},
     "output_type": "execute_result"
    }
   ],
   "source": [
    "l1.filter_List(4)"
   ]
  },
  {
   "cell_type": "markdown",
   "id": "41382517",
   "metadata": {},
   "source": [
    "Write a Python program using function concept that maps list of words into a list of integers\n",
    "representing the lengths of the corresponding words.\n",
    "Hint: If a list [ ab,cde,erty] is passed on to the python function output should come as [2,3,4]\n",
    "Here 2,3 and 4 are the lengths of the words in the list."
   ]
  },
  {
   "cell_type": "code",
   "execution_count": 233,
   "id": "91aaf8f9",
   "metadata": {},
   "outputs": [],
   "source": [
    "def map_Word2len(l):\n",
    "    return [len(i) for i in l]\n",
    "    "
   ]
  },
  {
   "cell_type": "code",
   "execution_count": 234,
   "id": "19d2c503",
   "metadata": {},
   "outputs": [
    {
     "data": {
      "text/plain": [
       "[5, 5]"
      ]
     },
     "execution_count": 234,
     "metadata": {},
     "output_type": "execute_result"
    }
   ],
   "source": [
    "map_Word2len(['raghu','kumar'])"
   ]
  },
  {
   "cell_type": "code",
   "execution_count": 235,
   "id": "aec0502d",
   "metadata": {},
   "outputs": [],
   "source": [
    "listA = ['ab','cdf','ijk']"
   ]
  },
  {
   "cell_type": "code",
   "execution_count": 237,
   "id": "d78f06ff",
   "metadata": {},
   "outputs": [
    {
     "data": {
      "text/plain": [
       "[2, 3, 3]"
      ]
     },
     "execution_count": 237,
     "metadata": {},
     "output_type": "execute_result"
    }
   ],
   "source": [
    "map_Word2len(listA)"
   ]
  },
  {
   "cell_type": "markdown",
   "id": "e5711702",
   "metadata": {},
   "source": [
    "Write a Python function which takes a character (i.e. a string of length 1) and returns True if\n",
    "it is a vowel, False otherwise."
   ]
  },
  {
   "cell_type": "code",
   "execution_count": 238,
   "id": "3b61e304",
   "metadata": {},
   "outputs": [],
   "source": [
    "def is_Vowel(c):\n",
    "    if c in ['a','e','i','o','u']:\n",
    "        return True"
   ]
  },
  {
   "cell_type": "code",
   "execution_count": 239,
   "id": "ba76cfda",
   "metadata": {},
   "outputs": [
    {
     "data": {
      "text/plain": [
       "True"
      ]
     },
     "execution_count": 239,
     "metadata": {},
     "output_type": "execute_result"
    }
   ],
   "source": [
    "is_Vowel('a')"
   ]
  },
  {
   "cell_type": "code",
   "execution_count": null,
   "id": "315d0595",
   "metadata": {},
   "outputs": [],
   "source": []
  }
 ],
 "metadata": {
  "kernelspec": {
   "display_name": "Python 3",
   "language": "python",
   "name": "python3"
  },
  "language_info": {
   "codemirror_mode": {
    "name": "ipython",
    "version": 3
   },
   "file_extension": ".py",
   "mimetype": "text/x-python",
   "name": "python",
   "nbconvert_exporter": "python",
   "pygments_lexer": "ipython3",
   "version": "3.9.5"
  }
 },
 "nbformat": 4,
 "nbformat_minor": 5
}
