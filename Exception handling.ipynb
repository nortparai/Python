{
 "cells": [
  {
   "cell_type": "markdown",
   "id": "0a3d8ba7",
   "metadata": {},
   "source": [
    "Write a function to compute 5/0 and use try/except to catch the exceptions."
   ]
  },
  {
   "cell_type": "code",
   "execution_count": 9,
   "id": "c9fe0519",
   "metadata": {},
   "outputs": [],
   "source": [
    "def div_Zero(num1,num2):\n",
    "    try:\n",
    "        ans =  num1/num2\n",
    "    except Exception as e:\n",
    "        print(\"Divide by zero error\", e)\n",
    "    else:\n",
    "        print(\"Function executed successfully\")\n",
    "        return ans\n",
    "    finally:\n",
    "        print(\"This block will be executed no matter what happens\")"
   ]
  },
  {
   "cell_type": "code",
   "execution_count": 10,
   "id": "571d2d5f",
   "metadata": {},
   "outputs": [
    {
     "name": "stdout",
     "output_type": "stream",
     "text": [
      "Divide by zero error division by zero\n",
      "This block will be executed no matter what happens\n"
     ]
    }
   ],
   "source": [
    "div_Zero(10,0)"
   ]
  },
  {
   "cell_type": "code",
   "execution_count": 11,
   "id": "e9a86496",
   "metadata": {},
   "outputs": [
    {
     "name": "stdout",
     "output_type": "stream",
     "text": [
      "Function executed successfully\n",
      "This block will be executed no matter what happens\n"
     ]
    },
    {
     "data": {
      "text/plain": [
       "5.0"
      ]
     },
     "execution_count": 11,
     "metadata": {},
     "output_type": "execute_result"
    }
   ],
   "source": [
    "div_Zero(10,2)"
   ]
  },
  {
   "cell_type": "markdown",
   "id": "acb53768",
   "metadata": {},
   "source": [
    "Implement a Python program to generate all sentences where subject is in\n",
    "[\"Americans\", \"Indians\"] and verb is in [\"Play\", \"watch\"] and the object is in\n",
    "[\"Baseball\",\"cricket\"].\n",
    "Hint: Subject,Verb and Object should be declared in the program as shown below.\n",
    "subjects=[\"Americans \",\"Indians\"]\n",
    "verbs=[\"play\",\"watch\"]\n",
    "objects=[\"Baseball\",\"Cricket\"]"
   ]
  },
  {
   "cell_type": "code",
   "execution_count": 14,
   "id": "406d4774",
   "metadata": {},
   "outputs": [],
   "source": [
    "subjects=[\"Americans \",\"Indians\"]\n",
    "verbs=[\"play\",\"watch\"] \n",
    "objects=[\"Baseball\",\"Cricket\"]"
   ]
  },
  {
   "cell_type": "code",
   "execution_count": 345,
   "id": "b71f4170",
   "metadata": {},
   "outputs": [
    {
     "name": "stdout",
     "output_type": "stream",
     "text": [
      "Americans  play Baseball\n",
      "Americans  play Cricket\n",
      "Americans  watch Baseball\n",
      "Americans  watch Cricket\n",
      "Indians play Baseball\n",
      "Indians play Cricket\n",
      "Indians watch Baseball\n",
      "Indians watch Cricket\n"
     ]
    }
   ],
   "source": [
    "my_sentences=[(sub +\" \"+ ver +\" \" + obj) for sub in subjects for ver in verbs for obj in objects]\n",
    "for sen in my_sentences: \n",
    "    print(sen)"
   ]
  },
  {
   "cell_type": "code",
   "execution_count": null,
   "id": "8bdd43da",
   "metadata": {},
   "outputs": [],
   "source": []
  }
 ],
 "metadata": {
  "kernelspec": {
   "display_name": "Python 3",
   "language": "python",
   "name": "python3"
  },
  "language_info": {
   "codemirror_mode": {
    "name": "ipython",
    "version": 3
   },
   "file_extension": ".py",
   "mimetype": "text/x-python",
   "name": "python",
   "nbconvert_exporter": "python",
   "pygments_lexer": "ipython3",
   "version": "3.9.5"
  }
 },
 "nbformat": 4,
 "nbformat_minor": 5
}
